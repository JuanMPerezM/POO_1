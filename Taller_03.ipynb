{
  "nbformat": 4,
  "nbformat_minor": 0,
  "metadata": {
    "kernelspec": {
      "display_name": "Python 3",
      "language": "python",
      "name": "python3"
    },
    "language_info": {
      "codemirror_mode": {
        "name": "ipython",
        "version": 3
      },
      "file_extension": ".py",
      "mimetype": "text/x-python",
      "name": "python",
      "nbconvert_exporter": "python",
      "pygments_lexer": "ipython3",
      "version": "3.7.7"
    },
    "colab": {
      "name": " Taller_03.ipynb",
      "provenance": [],
      "collapsed_sections": []
    }
  },
  "cells": [
    {
      "cell_type": "markdown",
      "metadata": {
        "id": "QZ6XziVD76Jw"
      },
      "source": [
        "<h1 align=\"center\">Taller 03 - Instrucciones repetitivas en Python</h1>\n",
        "\n",
        "Desarrolle la solucion a los siguientes problemas en Python, usando funciones y el programa correspondiente\n",
        "\n",
        "---"
      ]
    },
    {
      "cell_type": "markdown",
      "metadata": {
        "id": "uJJp2xk076J1"
      },
      "source": [
        "## Ejercicio 01\n",
        "\n",
        "Una librería ofrece dos tipos de descuentos ante la compra de un libro. Si el libro tiene un precio inferior a cien mil pesos, el descuento es del 12% del precio; pero en cualquier otro caso, el descuento asciende a un 18%.\n",
        "\n",
        "* Escriba una función que halle el precio neto de un libro (precio menos descuento) de un libro, dado el precio del libro.\n",
        "* Ahora, escriba un programa que permita leer el precio de varios libros (finalizar cuando el precio es cero o negativo) y mostrar para cada libro, el precio neto (usando la función desarrollada anteriormente)"
      ]
    },
    {
      "cell_type": "code",
      "metadata": {
        "id": "58mamZV176J2",
        "colab": {
          "base_uri": "https://localhost:8080/"
        },
        "outputId": "2327114c-50d1-458d-da94-526cab798812"
      },
      "source": [
        "# Definición de la función\n",
        "def hallar_precio_neto(precio_libro:float)->float:\n",
        "  precio_neto=0.0\n",
        "  if(precio_libro<100_000):\n",
        "    precio_neto=precio_libro-(precio_libro*0.12)\n",
        "  else:\n",
        "    precio_neto=precio_libro-(precio_libro*0.18)\n",
        "  return precio_neto\n",
        "# Programa principal\n",
        "\n",
        "if(__name__==\"__main__\"):\n",
        "  while True:\n",
        "    precio_libro=float(input(\"Digite precio libro: \"))\n",
        "    if(precio_libro<=0):\n",
        "      break\n",
        "    precio_neto=hallar_precio_neto(precio_libro)\n",
        "    print(\"el precio neto del libro es: \",precio_neto)\n",
        "\n"
      ],
      "execution_count": null,
      "outputs": [
        {
          "name": "stdout",
          "output_type": "stream",
          "text": [
            "Digite precio libro: 100\n",
            "el precio neto del libro es:  88.0\n",
            "Digite precio libro: -1\n"
          ]
        }
      ]
    },
    {
      "cell_type": "markdown",
      "metadata": {
        "id": "jF4Qm9FE76J3"
      },
      "source": [
        "---"
      ]
    },
    {
      "cell_type": "markdown",
      "metadata": {
        "id": "weyR_q0d76J4"
      },
      "source": [
        "## Ejercicio 02\n",
        "\n",
        "Un vendedor recibe una comisión por el volumen de ventas que realice. Las reglas para asignarle la comisión al vendedor son las siguientes:\n",
        "\n",
        "Ventas | Comisión\n",
        "---|---\n",
        "Inferior a 50 mil pesos | 7% de las ventas\n",
        "Entre 50 mil y 100 mil pesos | 9% de las ventas más 5 mil pesos\n",
        "Entre 100 mil y 200 mil pesos | 11% de las ventas más 10 mil pesos\n",
        "Entre 200 mil y 500 mil pesos | 13% de las ventas más 20 mil pesos\n",
        "Más de 500 mil pesos | 15% de las ventas más 40 mil pesos\n",
        "\n",
        "* Escriba una función que recibe el valor de las ventas de un vendedor y que retorne la comisión\n",
        "* Escriba un programa que lea el valor de ventas de varios vendedores de la empresa (finalizar cuando las ventas sean negativas), y usando la función anterior, calcule la comisión y la imprima por pantalla."
      ]
    },
    {
      "cell_type": "code",
      "metadata": {
        "id": "kMitVJVW76J4"
      },
      "source": [
        "# Definición de la función\n",
        "def comision_ventas(ventas:float)->float:\n",
        "    if ventas<50000:\n",
        "       comision = ventas*0.07\n",
        "    elif ventas >= 50_000 and ventas < 100_000:\n",
        "       comision = ventas*0.09 + 5000\n",
        "    elif ventas >= 100_000 and ventas < 200_000:\n",
        "       comision = ventas*0.11 + 10000\n",
        "    elif ventas >= 200_000 and ventas < 500_000:\n",
        "       comision = ventas*0.13 + 20000\n",
        "    else:\n",
        "       comision = ventas*0.15 + 40000\n",
        "    return comision\n",
        "       \n",
        "\n",
        "\n",
        "# Programa principal\n",
        "if(__name__==\"__main__\"):\n",
        "  ventas = float(input(\"Digite el volumen de ventas: \"))\n",
        "  while ventas >= 0: \n",
        "    comision = comision_ventas(ventas)\n",
        "    print(\"La comisión del vendedor sera de \", comision)\n",
        "    ventas = float(input(\"Digite el volumen de ventas: \")) "
      ],
      "execution_count": null,
      "outputs": []
    },
    {
      "cell_type": "markdown",
      "metadata": {
        "id": "YWyFJrR876J4"
      },
      "source": [
        "---\n"
      ]
    },
    {
      "cell_type": "markdown",
      "metadata": {
        "id": "2IHUrLVh76J5"
      },
      "source": [
        "## Ejercicio 03\n",
        "\n",
        "Una empresa ofrece a sus empleados un salario mensual fijo, y un porcertaje de las ventas como una comisión adicional a ese salario mensual. Esta comisión se calcula de la siguiente manera: si las ventas de un empleado excede los 50 mil pesos, la comisión será de un 12% de las ventas que están por encima de los 50 mil pesos, en otro caso no habrá comisión.\n",
        "\n",
        "* Primero, construya una función en la que dado las ventas que hizo el empleado, determine cuánto es la comisión\n",
        "* Ahora hay que hacer un programa que calcule y muestre los salarios y comisiones de todos los empleados de la empresa. Para cada empleado hay que preguntarle al usuario, el salario mensual y las ventas realizadas, y mostrar la comisión por las ventas (usando la función anterior) y el salario neto (salario más comisión). Como no sabemos cuántos empleados hay, después de mostrar esta información, debemos preguntarle al usuario si desea seguir o no."
      ]
    },
    {
      "cell_type": "code",
      "metadata": {
        "id": "aTuMvKmw76J5",
        "colab": {
          "base_uri": "https://localhost:8080/"
        },
        "outputId": "53a36ca0-f02b-49d8-f242-1198c89bb73e"
      },
      "source": [
        "# Definición de la función\n",
        "def salario(ventas:float)->float:\n",
        "  comisiones=0.0\n",
        "  if (ventas>50_000):\n",
        "    comisiones=ventas*0.12\n",
        "  else:\n",
        "    comisiones=ventas*0\n",
        "  return comisiones \n",
        "  \n",
        "# Programa principal\n",
        "\n",
        "if __name__=='__main__':\n",
        "  while True:\n",
        "    resultado=str(input(\"Bienvenido, ¿desea seguir?: \"))\n",
        "    if resultado==\"si\":\n",
        "      mensual=float(input(\"Digite su salario mensual: \"))\n",
        "      venta=int(input(\"Digite el número de ventas realizadas: \"))\n",
        "      comisionneta=0\n",
        "      for i in range (1,venta+1):\n",
        "        realizada=float(input(\"Digite el valor de la venta realizada: \"))\n",
        "        c=comision(realizada)\n",
        "        comisionneta+=c\n",
        "      total=mensual+comisionneta\n",
        "      print(f\"Su comisión es de: {comisionneta} y su salario neto es de: {total}\")\n",
        "    elif resultado==\"no\": \n",
        "      break\n",
        "\n",
        "    \n",
        "\n",
        "    \n",
        "    "
      ],
      "execution_count": 12,
      "outputs": [
        {
          "name": "stdout",
          "output_type": "stream",
          "text": [
            "Bienvenido, Desea seguir: si\n",
            "Ingrese su salario mensual: 12000000\n",
            "Ingrese el numero de ventas: 2\n",
            "Ingrese la venta realizada: 800000\n",
            "Ingrese la venta realizada: 100000\n",
            "Su comision es de 108000.0 y su salario neto es 12108000.0\n",
            "Bienvenido, Desea seguir: no\n"
          ]
        }
      ]
    },
    {
      "cell_type": "markdown",
      "metadata": {
        "id": "6M93ZEZh76J5"
      },
      "source": [
        "---"
      ]
    },
    {
      "cell_type": "markdown",
      "metadata": {
        "id": "ge6TBY0P76J6"
      },
      "source": [
        "## Ejercicio 04\n",
        "\n",
        "En una empresa se le paga a los trabajadores al final de cada semana de acuerdo a las reglas dadas a continuación:\n",
        "\n",
        "* Si trabajas 35 horas o menos, se le paga un valor de 15 mil pesos la hora;\n",
        "* Si trabaja más de 35 horas pero menos de 60, el valor de la hora es de 15 mil por las primeras 35 horas y de 18 mil por cada hora trabajada por encima de las 35\n",
        "* Si trabaja más de 60 horas, las primeras 35 se pagan a 15 mil, las siguiente 25 horas a 18 mil cada una y las horas horas trabajadas por encima de las 60 horas, se le paga a 25 mil pesos cada una.\n",
        "\n",
        "Vamos a buscar imprimir el salario semanal de cada uno de los empleados de la empresa. Para ello:\n",
        "\n",
        "* Escriba una función que reciba el número de horas trabajadas por un empleado y retorne el salario\n",
        "* Un programa que le pregunte al usuario el número de empleados que trabajan en la empresa, y para cada uno de esos, pregunte el número de horas trabajadas en la semana, y usando la función anterior, imprima el salario mensual de ese empleado."
      ]
    },
    {
      "cell_type": "code",
      "metadata": {
        "id": "o8NultX076J6",
        "colab": {
          "base_uri": "https://localhost:8080/"
        },
        "outputId": "bfd4e125-8e91-4dc9-ebdb-386f58a033fe"
      },
      "source": [
        "# Definición de la función\n",
        "def salario(horas:int)->float:\n",
        "  salariobase=0\n",
        "  if(horas<=35):\n",
        "    salariobase=horas*15000\n",
        "  elif(horas>35 and horas<60):\n",
        "    salariobase=(35*15000)+(horas-35)*18000\n",
        "  else:\n",
        "    salariobase=(35*15000)+(25*18000)+(horas-60)*25000  \n",
        "  return salariobase\n",
        "# Programa principal\n",
        "empleados=int(input(\"Ingrese número de empleados\"))\n",
        "\n",
        "for i in range(1,empleados+1):\n",
        "  horastrabajadas=int(input(\"ingrese horas trabajadas: \"))\n",
        "  salariobase=salario(horastrabajadas)*4\n",
        "  print(\"el sueldo base es: \", salariobase)"
      ],
      "execution_count": null,
      "outputs": [
        {
          "output_type": "stream",
          "name": "stdout",
          "text": [
            "Ingrese número de empleados2\n",
            "ingrese horas trabajadas: 10\n",
            "el sueldo base es:  600000\n",
            "ingrese horas trabajadas: 80\n",
            "el sueldo base es:  5900000\n"
          ]
        }
      ]
    }
  ]
}